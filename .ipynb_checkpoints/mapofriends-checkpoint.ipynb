{
 "cells": [
  {
   "cell_type": "code",
   "execution_count": 1,
   "id": "03c4b958",
   "metadata": {},
   "outputs": [
    {
     "name": "stdout",
     "output_type": "stream",
     "text": [
      "Collecting folium\n",
      "  Downloading folium-0.12.1-py2.py3-none-any.whl (94 kB)\n",
      "Collecting branca>=0.3.0\n",
      "  Downloading branca-0.4.2-py3-none-any.whl (24 kB)\n",
      "Requirement already satisfied: numpy in c:\\users\\user\\appdata\\local\\programs\\python\\python39\\lib\\site-packages (from folium) (1.21.1)\n",
      "Requirement already satisfied: jinja2>=2.9 in c:\\users\\user\\appdata\\local\\programs\\python\\python39\\lib\\site-packages (from folium) (2.11.3)\n",
      "Requirement already satisfied: requests in c:\\users\\user\\appdata\\local\\programs\\python\\python39\\lib\\site-packages (from folium) (2.11.1)\n",
      "Requirement already satisfied: MarkupSafe>=0.23 in c:\\users\\user\\appdata\\local\\programs\\python\\python39\\lib\\site-packages (from jinja2>=2.9->folium) (2.0.1)\n",
      "Installing collected packages: branca, folium\n",
      "Successfully installed branca-0.4.2 folium-0.12.1\n"
     ]
    },
    {
     "name": "stderr",
     "output_type": "stream",
     "text": [
      "WARNING: You are using pip version 21.2.4; however, version 21.3.1 is available.\n",
      "You should consider upgrading via the 'C:\\Users\\User\\AppData\\Local\\Programs\\Python\\Python39\\python.exe -m pip install --upgrade pip' command.\n"
     ]
    }
   ],
   "source": [
    "!pip install folium"
   ]
  },
  {
   "cell_type": "code",
   "execution_count": 1,
   "id": "2f360cc9",
   "metadata": {},
   "outputs": [],
   "source": [
    "import folium"
   ]
  },
  {
   "cell_type": "code",
   "execution_count": 2,
   "id": "7b147768",
   "metadata": {},
   "outputs": [],
   "source": [
    "from os import name\n",
    "import firebase_admin\n",
    "from flask import *\n",
    "from firebase_admin import credentials, initialize_app, storage, db\n",
    "import tempfile\n",
    "import requests\n",
    "import urllib3\n",
    "import json\n",
    "import fsspec\n",
    "\n",
    "# Init firebase with your credentials\n",
    "cred = credentials.Certificate(\"map-media-firebase-adminsdk-n2drj-c5da9f1d62.json\")\n",
    "\n",
    "\n",
    "db_app = initialize_app(credential=cred)\n",
    "ref = db.reference(\"/\", url='https://map-media-default-rtdb.firebaseio.com/')"
   ]
  },
  {
   "cell_type": "code",
   "execution_count": 86,
   "id": "c457c95f",
   "metadata": {},
   "outputs": [
    {
     "data": {
      "text/plain": [
       "{'-Mo5lYfsWPu-1ws2fm0E': {'Description': '🍂*NEW LAUNCHING*🍂  🍁*ANX 123*🍁  Presenting Enchanting Yet Breathable Organic Banarasi Sarees For Intimate And Big Fat Indian Weddings, That Are Light On Your Skin And Uplift Your Wedding Shenanigans!  *Fabric :- SOFT LICHI SILK*  Saree Length 5.5 Meter Blouse Length 0.8 Meter',\n",
       "  'Facebook Link': 'Url',\n",
       "  'Image Url': 'https://storage.googleapis.com/map-media.appspot.com/C%3A%5CUsers%5CUser%5CAppData%5CLocal%5CTemp%5Ctmp0dqpe43k',\n",
       "  'Lat': '23.76705',\n",
       "  'Lon': '90.3580975',\n",
       "  'Name': 'Upal'}}"
      ]
     },
     "execution_count": 86,
     "metadata": {},
     "output_type": "execute_result"
    }
   ],
   "source": [
    "dicty=  ref.get()\n",
    "dicty"
   ]
  },
  {
   "cell_type": "code",
   "execution_count": 87,
   "id": "435d5841",
   "metadata": {},
   "outputs": [
    {
     "data": {
      "text/plain": [
       "dict_keys(['-Mo5lYfsWPu-1ws2fm0E'])"
      ]
     },
     "execution_count": 87,
     "metadata": {},
     "output_type": "execute_result"
    }
   ],
   "source": [
    "m = folium.Map()\n",
    "ref.get().keys()"
   ]
  },
  {
   "cell_type": "code",
   "execution_count": 98,
   "id": "5572549d",
   "metadata": {},
   "outputs": [],
   "source": [
    "for key in dicty.keys():\n",
    "    iframe = folium.IFrame(html='''\n",
    "                           <div class=\"card\" style=\"width: 18rem;\">\n",
    "                          <img src=\"{}\" class=\"card-img-top\" alt=\"{}\">\n",
    "                          <div class=\"card-body\">\n",
    "                            <h5 class=\"card-title\">{}</h5>\n",
    "                            <p class=\"card-text\">{}</p>\n",
    "                            <a href=\"{}\" class=\"btn btn-primary\">Meet Up On Fb</a>\n",
    "                          </div>\n",
    "                        </div>'''.format(dicty[key]['Image Url'],dicty[key]['Name'],dicty[key]['Name'],dicty[key]['Description'],dicty[key]['Facebook Link']))\n",
    "    folium.Marker(location=(dicty[key]['Lat'], dicty[key]['Lon']), \n",
    "                  popup=folium.Popup(iframe,  min_width=500,max_width=500)).add_to(m)"
   ]
  },
  {
   "cell_type": "code",
   "execution_count": 99,
   "id": "ebfdf93d",
   "metadata": {},
   "outputs": [
    {
     "data": {
      "text/html": [
       "<div style=\"width:100%;\"><div style=\"position:relative;width:100%;height:0;padding-bottom:60%;\"><span style=\"color:#565656\">Make this Notebook Trusted to load map: File -> Trust Notebook</span><iframe src=\"about:blank\" style=\"position:absolute;width:100%;height:100%;left:0;top:0;border:none !important;\" data-html=%3C%21DOCTYPE%20html%3E%0A%3Chead%3E%20%20%20%20%0A%20%20%20%20%3Cmeta%20http-equiv%3D%22content-type%22%20content%3D%22text/html%3B%20charset%3DUTF-8%22%20/%3E%0A%20%20%20%20%0A%20%20%20%20%20%20%20%20%3Cscript%3E%0A%20%20%20%20%20%20%20%20%20%20%20%20L_NO_TOUCH%20%3D%20false%3B%0A%20%20%20%20%20%20%20%20%20%20%20%20L_DISABLE_3D%20%3D%20false%3B%0A%20%20%20%20%20%20%20%20%3C/script%3E%0A%20%20%20%20%0A%20%20%20%20%3Cstyle%3Ehtml%2C%20body%20%7Bwidth%3A%20100%25%3Bheight%3A%20100%25%3Bmargin%3A%200%3Bpadding%3A%200%3B%7D%3C/style%3E%0A%20%20%20%20%3Cstyle%3E%23map%20%7Bposition%3Aabsolute%3Btop%3A0%3Bbottom%3A0%3Bright%3A0%3Bleft%3A0%3B%7D%3C/style%3E%0A%20%20%20%20%3Cscript%20src%3D%22https%3A//cdn.jsdelivr.net/npm/leaflet%401.6.0/dist/leaflet.js%22%3E%3C/script%3E%0A%20%20%20%20%3Cscript%20src%3D%22https%3A//code.jquery.com/jquery-1.12.4.min.js%22%3E%3C/script%3E%0A%20%20%20%20%3Cscript%20src%3D%22https%3A//maxcdn.bootstrapcdn.com/bootstrap/3.2.0/js/bootstrap.min.js%22%3E%3C/script%3E%0A%20%20%20%20%3Cscript%20src%3D%22https%3A//cdnjs.cloudflare.com/ajax/libs/Leaflet.awesome-markers/2.0.2/leaflet.awesome-markers.js%22%3E%3C/script%3E%0A%20%20%20%20%3Clink%20rel%3D%22stylesheet%22%20href%3D%22https%3A//cdn.jsdelivr.net/npm/leaflet%401.6.0/dist/leaflet.css%22/%3E%0A%20%20%20%20%3Clink%20rel%3D%22stylesheet%22%20href%3D%22https%3A//maxcdn.bootstrapcdn.com/bootstrap/3.2.0/css/bootstrap.min.css%22/%3E%0A%20%20%20%20%3Clink%20rel%3D%22stylesheet%22%20href%3D%22https%3A//maxcdn.bootstrapcdn.com/bootstrap/3.2.0/css/bootstrap-theme.min.css%22/%3E%0A%20%20%20%20%3Clink%20rel%3D%22stylesheet%22%20href%3D%22https%3A//maxcdn.bootstrapcdn.com/font-awesome/4.6.3/css/font-awesome.min.css%22/%3E%0A%20%20%20%20%3Clink%20rel%3D%22stylesheet%22%20href%3D%22https%3A//cdnjs.cloudflare.com/ajax/libs/Leaflet.awesome-markers/2.0.2/leaflet.awesome-markers.css%22/%3E%0A%20%20%20%20%3Clink%20rel%3D%22stylesheet%22%20href%3D%22https%3A//cdn.jsdelivr.net/gh/python-visualization/folium/folium/templates/leaflet.awesome.rotate.min.css%22/%3E%0A%20%20%20%20%0A%20%20%20%20%20%20%20%20%20%20%20%20%3Cmeta%20name%3D%22viewport%22%20content%3D%22width%3Ddevice-width%2C%0A%20%20%20%20%20%20%20%20%20%20%20%20%20%20%20%20initial-scale%3D1.0%2C%20maximum-scale%3D1.0%2C%20user-scalable%3Dno%22%20/%3E%0A%20%20%20%20%20%20%20%20%20%20%20%20%3Cstyle%3E%0A%20%20%20%20%20%20%20%20%20%20%20%20%20%20%20%20%23map_9e9bfa0e7f7341d69cb641a321d4dc40%20%7B%0A%20%20%20%20%20%20%20%20%20%20%20%20%20%20%20%20%20%20%20%20position%3A%20relative%3B%0A%20%20%20%20%20%20%20%20%20%20%20%20%20%20%20%20%20%20%20%20width%3A%20100.0%25%3B%0A%20%20%20%20%20%20%20%20%20%20%20%20%20%20%20%20%20%20%20%20height%3A%20100.0%25%3B%0A%20%20%20%20%20%20%20%20%20%20%20%20%20%20%20%20%20%20%20%20left%3A%200.0%25%3B%0A%20%20%20%20%20%20%20%20%20%20%20%20%20%20%20%20%20%20%20%20top%3A%200.0%25%3B%0A%20%20%20%20%20%20%20%20%20%20%20%20%20%20%20%20%7D%0A%20%20%20%20%20%20%20%20%20%20%20%20%3C/style%3E%0A%20%20%20%20%20%20%20%20%0A%3C/head%3E%0A%3Cbody%3E%20%20%20%20%0A%20%20%20%20%0A%20%20%20%20%20%20%20%20%20%20%20%20%3Cdiv%20class%3D%22folium-map%22%20id%3D%22map_9e9bfa0e7f7341d69cb641a321d4dc40%22%20%3E%3C/div%3E%0A%20%20%20%20%20%20%20%20%0A%3C/body%3E%0A%3Cscript%3E%20%20%20%20%0A%20%20%20%20%0A%20%20%20%20%20%20%20%20%20%20%20%20var%20map_9e9bfa0e7f7341d69cb641a321d4dc40%20%3D%20L.map%28%0A%20%20%20%20%20%20%20%20%20%20%20%20%20%20%20%20%22map_9e9bfa0e7f7341d69cb641a321d4dc40%22%2C%0A%20%20%20%20%20%20%20%20%20%20%20%20%20%20%20%20%7B%0A%20%20%20%20%20%20%20%20%20%20%20%20%20%20%20%20%20%20%20%20center%3A%20%5B0%2C%200%5D%2C%0A%20%20%20%20%20%20%20%20%20%20%20%20%20%20%20%20%20%20%20%20crs%3A%20L.CRS.EPSG3857%2C%0A%20%20%20%20%20%20%20%20%20%20%20%20%20%20%20%20%20%20%20%20zoom%3A%201%2C%0A%20%20%20%20%20%20%20%20%20%20%20%20%20%20%20%20%20%20%20%20zoomControl%3A%20true%2C%0A%20%20%20%20%20%20%20%20%20%20%20%20%20%20%20%20%20%20%20%20preferCanvas%3A%20false%2C%0A%20%20%20%20%20%20%20%20%20%20%20%20%20%20%20%20%7D%0A%20%20%20%20%20%20%20%20%20%20%20%20%29%3B%0A%0A%20%20%20%20%20%20%20%20%20%20%20%20%0A%0A%20%20%20%20%20%20%20%20%0A%20%20%20%20%0A%20%20%20%20%20%20%20%20%20%20%20%20var%20tile_layer_45903cbe58f945f282530af9565a60f3%20%3D%20L.tileLayer%28%0A%20%20%20%20%20%20%20%20%20%20%20%20%20%20%20%20%22https%3A//%7Bs%7D.tile.openstreetmap.org/%7Bz%7D/%7Bx%7D/%7By%7D.png%22%2C%0A%20%20%20%20%20%20%20%20%20%20%20%20%20%20%20%20%7B%22attribution%22%3A%20%22Data%20by%20%5Cu0026copy%3B%20%5Cu003ca%20href%3D%5C%22http%3A//openstreetmap.org%5C%22%5Cu003eOpenStreetMap%5Cu003c/a%5Cu003e%2C%20under%20%5Cu003ca%20href%3D%5C%22http%3A//www.openstreetmap.org/copyright%5C%22%5Cu003eODbL%5Cu003c/a%5Cu003e.%22%2C%20%22detectRetina%22%3A%20false%2C%20%22maxNativeZoom%22%3A%2018%2C%20%22maxZoom%22%3A%2018%2C%20%22minZoom%22%3A%200%2C%20%22noWrap%22%3A%20false%2C%20%22opacity%22%3A%201%2C%20%22subdomains%22%3A%20%22abc%22%2C%20%22tms%22%3A%20false%7D%0A%20%20%20%20%20%20%20%20%20%20%20%20%29.addTo%28map_9e9bfa0e7f7341d69cb641a321d4dc40%29%3B%0A%20%20%20%20%20%20%20%20%0A%20%20%20%20%0A%20%20%20%20%20%20%20%20%20%20%20%20var%20marker_1f20989a5aa04cd7945ad9b44eafef14%20%3D%20L.marker%28%0A%20%20%20%20%20%20%20%20%20%20%20%20%20%20%20%20%5B23.76705%2C%2090.3580975%5D%2C%0A%20%20%20%20%20%20%20%20%20%20%20%20%20%20%20%20%7B%7D%0A%20%20%20%20%20%20%20%20%20%20%20%20%29.addTo%28map_9e9bfa0e7f7341d69cb641a321d4dc40%29%3B%0A%20%20%20%20%20%20%20%20%0A%20%20%20%20%0A%20%20%20%20%20%20%20%20var%20popup_e30ac38693d14d5eb78d0e5f67996124%20%3D%20L.popup%28%7B%22maxWidth%22%3A%20500%2C%20%22minWidth%22%3A%20100%7D%29%3B%0A%0A%20%20%20%20%20%20%20%20%0A%20%20%20%20%20%20%20%20%20%20%20%20var%20i_frame_0b165eac20554ce484ac60574e4067f5%20%3D%20%24%28%60%3Cdiv%20style%3D%22width%3A100%25%3B%22%3E%3Cdiv%20style%3D%22position%3Arelative%3Bwidth%3A100%25%3Bheight%3A0%3Bpadding-bottom%3A60%25%3B%22%3E%3Ciframe%20src%3D%22data%3Atext/html%3Bcharset%3Dutf-8%3Bbase64%2CCiAgICA8Yj5OYW1lIDogVXBhbDwvYj4gPGJyPiA8aW1nIHNyYz0iaHR0cHM6Ly9zdG9yYWdlLmdvb2dsZWFwaXMuY29tL21hcC1tZWRpYS5hcHBzcG90LmNvbS9DJTNBJTVDVXNlcnMlNUNVc2VyJTVDQXBwRGF0YSU1Q0xvY2FsJTVDVGVtcCU1Q3RtcDBkcXBlNDNrIi8%2B%22%20style%3D%22position%3Aabsolute%3Bwidth%3A100%25%3Bheight%3A100%25%3Bleft%3A0%3Btop%3A0%3Bborder%3Anone%20%21important%3B%22%3E%3C/iframe%3E%3C/div%3E%3C/div%3E%60%29%5B0%5D%3B%0A%20%20%20%20%20%20%20%20%20%20%20%20popup_e30ac38693d14d5eb78d0e5f67996124.setContent%28i_frame_0b165eac20554ce484ac60574e4067f5%29%3B%0A%20%20%20%20%20%20%20%20%0A%0A%20%20%20%20%20%20%20%20marker_1f20989a5aa04cd7945ad9b44eafef14.bindPopup%28popup_e30ac38693d14d5eb78d0e5f67996124%29%0A%20%20%20%20%20%20%20%20%3B%0A%0A%20%20%20%20%20%20%20%20%0A%20%20%20%20%0A%20%20%20%20%0A%20%20%20%20%20%20%20%20%20%20%20%20var%20marker_9729958c3fe14a4ab648218fc544587e%20%3D%20L.marker%28%0A%20%20%20%20%20%20%20%20%20%20%20%20%20%20%20%20%5B23.76705%2C%2090.3580975%5D%2C%0A%20%20%20%20%20%20%20%20%20%20%20%20%20%20%20%20%7B%7D%0A%20%20%20%20%20%20%20%20%20%20%20%20%29.addTo%28map_9e9bfa0e7f7341d69cb641a321d4dc40%29%3B%0A%20%20%20%20%20%20%20%20%0A%20%20%20%20%0A%20%20%20%20%20%20%20%20var%20popup_0e810a81fc6247bc80d1eb80004b8183%20%3D%20L.popup%28%7B%22maxWidth%22%3A%20500%2C%20%22minWidth%22%3A%20500%7D%29%3B%0A%0A%20%20%20%20%20%20%20%20%0A%20%20%20%20%20%20%20%20%20%20%20%20var%20i_frame_2620838831bc4a5389844d21e3b6e8b4%20%3D%20%24%28%60%3Cdiv%20style%3D%22width%3A100%25%3B%22%3E%3Cdiv%20style%3D%22position%3Arelative%3Bwidth%3A100%25%3Bheight%3A0%3Bpadding-bottom%3A60%25%3B%22%3E%3Ciframe%20src%3D%22data%3Atext/html%3Bcharset%3Dutf-8%3Bbase64%2CCiAgICA8Yj5OYW1lIDogVXBhbDwvYj4gPGJyPiA8aW1nIHNyYz0iaHR0cHM6Ly9zdG9yYWdlLmdvb2dsZWFwaXMuY29tL21hcC1tZWRpYS5hcHBzcG90LmNvbS9DJTNBJTVDVXNlcnMlNUNVc2VyJTVDQXBwRGF0YSU1Q0xvY2FsJTVDVGVtcCU1Q3RtcDBkcXBlNDNrIi8%2B%22%20style%3D%22position%3Aabsolute%3Bwidth%3A100%25%3Bheight%3A100%25%3Bleft%3A0%3Btop%3A0%3Bborder%3Anone%20%21important%3B%22%3E%3C/iframe%3E%3C/div%3E%3C/div%3E%60%29%5B0%5D%3B%0A%20%20%20%20%20%20%20%20%20%20%20%20popup_0e810a81fc6247bc80d1eb80004b8183.setContent%28i_frame_2620838831bc4a5389844d21e3b6e8b4%29%3B%0A%20%20%20%20%20%20%20%20%0A%0A%20%20%20%20%20%20%20%20marker_9729958c3fe14a4ab648218fc544587e.bindPopup%28popup_0e810a81fc6247bc80d1eb80004b8183%29%0A%20%20%20%20%20%20%20%20%3B%0A%0A%20%20%20%20%20%20%20%20%0A%20%20%20%20%0A%20%20%20%20%0A%20%20%20%20%20%20%20%20%20%20%20%20var%20marker_cce28e30cb2d4711b5cfd1419306f4e2%20%3D%20L.marker%28%0A%20%20%20%20%20%20%20%20%20%20%20%20%20%20%20%20%5B23.76705%2C%2090.3580975%5D%2C%0A%20%20%20%20%20%20%20%20%20%20%20%20%20%20%20%20%7B%7D%0A%20%20%20%20%20%20%20%20%20%20%20%20%29.addTo%28map_9e9bfa0e7f7341d69cb641a321d4dc40%29%3B%0A%20%20%20%20%20%20%20%20%0A%20%20%20%20%0A%20%20%20%20%20%20%20%20var%20popup_da8af21da2fd456c931120087b4d303a%20%3D%20L.popup%28%7B%22maxWidth%22%3A%20500%2C%20%22minWidth%22%3A%20500%7D%29%3B%0A%0A%20%20%20%20%20%20%20%20%0A%20%20%20%20%20%20%20%20%20%20%20%20var%20i_frame_8e885f8c7a41409bba395140b7603257%20%3D%20%24%28%60%3Cdiv%20style%3D%22width%3A100%25%3B%22%3E%3Cdiv%20style%3D%22position%3Arelative%3Bwidth%3A100%25%3Bheight%3A0%3Bpadding-bottom%3A60%25%3B%22%3E%3Ciframe%20src%3D%22data%3Atext/html%3Bcharset%3Dutf-8%3Bbase64%2CCiAgICA8Yj5OYW1lIDogVXBhbDwvYj4gPGJyPiA8aW1nIHdpZHRoPSIyMDBweCIgaGVpZ2h0PSIzMDBweCIgc3JjPSJodHRwczovL3N0b3JhZ2UuZ29vZ2xlYXBpcy5jb20vbWFwLW1lZGlhLmFwcHNwb3QuY29tL0MlM0ElNUNVc2VycyU1Q1VzZXIlNUNBcHBEYXRhJTVDTG9jYWwlNUNUZW1wJTVDdG1wMGRxcGU0M2siLz4%3D%22%20style%3D%22position%3Aabsolute%3Bwidth%3A100%25%3Bheight%3A100%25%3Bleft%3A0%3Btop%3A0%3Bborder%3Anone%20%21important%3B%22%3E%3C/iframe%3E%3C/div%3E%3C/div%3E%60%29%5B0%5D%3B%0A%20%20%20%20%20%20%20%20%20%20%20%20popup_da8af21da2fd456c931120087b4d303a.setContent%28i_frame_8e885f8c7a41409bba395140b7603257%29%3B%0A%20%20%20%20%20%20%20%20%0A%0A%20%20%20%20%20%20%20%20marker_cce28e30cb2d4711b5cfd1419306f4e2.bindPopup%28popup_da8af21da2fd456c931120087b4d303a%29%0A%20%20%20%20%20%20%20%20%3B%0A%0A%20%20%20%20%20%20%20%20%0A%20%20%20%20%0A%20%20%20%20%0A%20%20%20%20%20%20%20%20%20%20%20%20var%20marker_1287360eff4a4f30b2a77c367db5f660%20%3D%20L.marker%28%0A%20%20%20%20%20%20%20%20%20%20%20%20%20%20%20%20%5B23.76705%2C%2090.3580975%5D%2C%0A%20%20%20%20%20%20%20%20%20%20%20%20%20%20%20%20%7B%7D%0A%20%20%20%20%20%20%20%20%20%20%20%20%29.addTo%28map_9e9bfa0e7f7341d69cb641a321d4dc40%29%3B%0A%20%20%20%20%20%20%20%20%0A%20%20%20%20%0A%20%20%20%20%20%20%20%20var%20popup_ba7df8b3919940db9283129f249074f2%20%3D%20L.popup%28%7B%22maxWidth%22%3A%20500%2C%20%22minWidth%22%3A%20500%7D%29%3B%0A%0A%20%20%20%20%20%20%20%20%0A%20%20%20%20%20%20%20%20%20%20%20%20var%20i_frame_7a59dca920f749028e8a5d92e9d3a728%20%3D%20%24%28%60%3Cdiv%20style%3D%22width%3A100%25%3B%22%3E%3Cdiv%20style%3D%22position%3Arelative%3Bwidth%3A100%25%3Bheight%3A0%3Bpadding-bottom%3A60%25%3B%22%3E%3Ciframe%20src%3D%22data%3Atext/html%3Bcharset%3Dutf-8%3Bbase64%2CCiAgICAKICAgICAgICAgICAgICAgICAgICAgICAgICAgPGRpdiBjbGFzcz0iY2FyZCIgc3R5bGU9IndpZHRoOiAxOHJlbTsiPgogICAgICAgICAgICAgICAgICAgICAgICAgIDxpbWcgc3JjPSJodHRwczovL3N0b3JhZ2UuZ29vZ2xlYXBpcy5jb20vbWFwLW1lZGlhLmFwcHNwb3QuY29tL0MlM0ElNUNVc2VycyU1Q1VzZXIlNUNBcHBEYXRhJTVDTG9jYWwlNUNUZW1wJTVDdG1wMGRxcGU0M2siIGNsYXNzPSJjYXJkLWltZy10b3AiIGFsdD0iVXBhbCI%2BCiAgICAgICAgICAgICAgICAgICAgICAgICAgPGRpdiBjbGFzcz0iY2FyZC1ib2R5Ij4KICAgICAgICAgICAgICAgICAgICAgICAgICAgIDxoNSBjbGFzcz0iY2FyZC10aXRsZSI%2BVXBhbDwvaDU%2BCiAgICAgICAgICAgICAgICAgICAgICAgICAgICA8cCBjbGFzcz0iY2FyZC10ZXh0Ij7wn42CKk5FVyBMQVVOQ0hJTkcq8J%2BNgiAg8J%2BNgSpBTlggMTIzKvCfjYEgIFByZXNlbnRpbmcgRW5jaGFudGluZyBZZXQgQnJlYXRoYWJsZSBPcmdhbmljIEJhbmFyYXNpIFNhcmVlcyBGb3IgSW50aW1hdGUgQW5kIEJpZyBGYXQgSW5kaWFuIFdlZGRpbmdzLCBUaGF0IEFyZSBMaWdodCBPbiBZb3VyIFNraW4gQW5kIFVwbGlmdCBZb3VyIFdlZGRpbmcgU2hlbmFuaWdhbnMhICAqRmFicmljIDotIFNPRlQgTElDSEkgU0lMSyogIFNhcmVlIExlbmd0aCA1LjUgTWV0ZXIgQmxvdXNlIExlbmd0aCAwLjggTWV0ZXI8L3A%2BCiAgICAgICAgICAgICAgICAgICAgICAgICAgICA8YSBocmVmPSJVcmwiIGNsYXNzPSJidG4gYnRuLXByaW1hcnkiPk1lZXQgVXAgT24gRmI8L2E%2BCiAgICAgICAgICAgICAgICAgICAgICAgICAgPC9kaXY%2BCiAgICAgICAgICAgICAgICAgICAgICAgIDwvZGl2Pg%3D%3D%22%20style%3D%22position%3Aabsolute%3Bwidth%3A100%25%3Bheight%3A100%25%3Bleft%3A0%3Btop%3A0%3Bborder%3Anone%20%21important%3B%22%3E%3C/iframe%3E%3C/div%3E%3C/div%3E%60%29%5B0%5D%3B%0A%20%20%20%20%20%20%20%20%20%20%20%20popup_ba7df8b3919940db9283129f249074f2.setContent%28i_frame_7a59dca920f749028e8a5d92e9d3a728%29%3B%0A%20%20%20%20%20%20%20%20%0A%0A%20%20%20%20%20%20%20%20marker_1287360eff4a4f30b2a77c367db5f660.bindPopup%28popup_ba7df8b3919940db9283129f249074f2%29%0A%20%20%20%20%20%20%20%20%3B%0A%0A%20%20%20%20%20%20%20%20%0A%20%20%20%20%0A%3C/script%3E onload=\"this.contentDocument.open();this.contentDocument.write(    decodeURIComponent(this.getAttribute('data-html')));this.contentDocument.close();\" allowfullscreen webkitallowfullscreen mozallowfullscreen></iframe></div></div>"
      ],
      "text/plain": [
       "<folium.folium.Map at 0x1cf94c994f0>"
      ]
     },
     "execution_count": 99,
     "metadata": {},
     "output_type": "execute_result"
    }
   ],
   "source": [
    "m"
   ]
  },
  {
   "cell_type": "code",
   "execution_count": null,
   "id": "507c6e9a",
   "metadata": {},
   "outputs": [],
   "source": []
  }
 ],
 "metadata": {
  "kernelspec": {
   "display_name": "Python 3",
   "language": "python",
   "name": "python3"
  },
  "language_info": {
   "codemirror_mode": {
    "name": "ipython",
    "version": 3
   },
   "file_extension": ".py",
   "mimetype": "text/x-python",
   "name": "python",
   "nbconvert_exporter": "python",
   "pygments_lexer": "ipython3",
   "version": "3.9.5"
  }
 },
 "nbformat": 4,
 "nbformat_minor": 5
}
